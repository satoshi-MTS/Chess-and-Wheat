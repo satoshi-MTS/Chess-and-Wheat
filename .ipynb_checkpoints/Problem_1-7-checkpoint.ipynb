{
 "cells": [
  {
   "cell_type": "markdown",
   "id": "48f76992",
   "metadata": {},
   "source": [
    "# 小麦とチェス盤問題\n",
    "##  サンプルコード"
   ]
  },
  {
   "cell_type": "code",
   "execution_count": 1,
   "id": "62318252",
   "metadata": {},
   "outputs": [
    {
     "name": "stdout",
     "output_type": "stream",
     "text": [
      "4マスの板に小麦を並べる(リスト) : [1, 2, 4, 8]\n"
     ]
    }
   ],
   "source": [
    "n_squares = 4\n",
    "small_board_list = [1]\n",
    "for _ in range(n_squares - 1):\n",
    "    small_board_list.append(2 * small_board_list[-1])\n",
    "print('4マスの板に小麦を並べる(リスト) : {}'.format(small_board_list))"
   ]
  },
  {
   "cell_type": "code",
   "execution_count": 2,
   "id": "43a0c0ae",
   "metadata": {},
   "outputs": [
    {
     "name": "stdout",
     "output_type": "stream",
     "text": [
      "4マスの板に小麦を並べる(ndarray) : [1 2 4 8]\n"
     ]
    }
   ],
   "source": [
    "import numpy as np\n",
    "small_board_ndarray = np.array(small_board_list)\n",
    "print('4マスの板に小麦を並べる(ndarray) : {}'.format(small_board_ndarray))"
   ]
  },
  {
   "cell_type": "markdown",
   "id": "f938ba65",
   "metadata": {},
   "source": [
    "## 【問題1】2×2マスのチェス盤の小麦の数"
   ]
  },
  {
   "cell_type": "code",
   "execution_count": 3,
   "id": "f9557579",
   "metadata": {},
   "outputs": [
    {
     "name": "stdout",
     "output_type": "stream",
     "text": [
      "2*2マスのチェス盤に小麦を並べる : \n",
      "[[1 2]\n",
      " [4 8]]\n"
     ]
    }
   ],
   "source": [
    "chess_board_22 = small_board_ndarray.reshape(2, 2)\n",
    "print('2*2マスのチェス盤に小麦を並べる : \\n{}'.format(chess_board_22))"
   ]
  },
  {
   "cell_type": "markdown",
   "id": "85470121",
   "metadata": {},
   "source": [
    "## 【問題2】n×mマスへの拡張"
   ]
  },
  {
   "cell_type": "code",
   "execution_count": 4,
   "id": "29014e3a",
   "metadata": {},
   "outputs": [
    {
     "name": "stdout",
     "output_type": "stream",
     "text": [
      "8*8マスのチェス盤に小麦を並べる : \n",
      "[[1.00000000e+00 2.00000000e+00 4.00000000e+00 8.00000000e+00\n",
      "  1.60000000e+01 3.20000000e+01 6.40000000e+01 1.28000000e+02]\n",
      " [2.56000000e+02 5.12000000e+02 1.02400000e+03 2.04800000e+03\n",
      "  4.09600000e+03 8.19200000e+03 1.63840000e+04 3.27680000e+04]\n",
      " [6.55360000e+04 1.31072000e+05 2.62144000e+05 5.24288000e+05\n",
      "  1.04857600e+06 2.09715200e+06 4.19430400e+06 8.38860800e+06]\n",
      " [1.67772160e+07 3.35544320e+07 6.71088640e+07 1.34217728e+08\n",
      "  2.68435456e+08 5.36870912e+08 1.07374182e+09 2.14748365e+09]\n",
      " [4.29496730e+09 8.58993459e+09 1.71798692e+10 3.43597384e+10\n",
      "  6.87194767e+10 1.37438953e+11 2.74877907e+11 5.49755814e+11]\n",
      " [1.09951163e+12 2.19902326e+12 4.39804651e+12 8.79609302e+12\n",
      "  1.75921860e+13 3.51843721e+13 7.03687442e+13 1.40737488e+14]\n",
      " [2.81474977e+14 5.62949953e+14 1.12589991e+15 2.25179981e+15\n",
      "  4.50359963e+15 9.00719925e+15 1.80143985e+16 3.60287970e+16]\n",
      " [7.20575940e+16 1.44115188e+17 2.88230376e+17 5.76460752e+17\n",
      "  1.15292150e+18 2.30584301e+18 4.61168602e+18 9.22337204e+18]]\n"
     ]
    }
   ],
   "source": [
    "import matplotlib.pyplot as plt\n",
    "\n",
    "\n",
    "# 関数の定義\n",
    "def chess_board_wheal(vertical, side):\n",
    "\t\"\"\"\n",
    "\tfunction : 縦[vertical] * 横[side]のマスを持つチェス盤に1,2,4と倍々に小麦を置いた配列[chess_board_and_wheal]を返す関数\n",
    "\t:param vertical : int\n",
    "\t\tチェス盤の縦のマス数\n",
    "\t:param side : int\n",
    "\t\tチェス盤の横のマス数\n",
    "\tnumber_of_square : int\n",
    "\t\tマスの総数\n",
    "\tboard_list : list\n",
    "\t\tマスを右上から一列に並べたと仮定して小麦を置いたリスト\n",
    "\t:return : chess_board_chess_wheal\n",
    "\t\t小麦を置いた後の配列\n",
    "\t\"\"\"\n",
    "\n",
    "\t# マスの合計の計算\n",
    "\tnumber_of_square = vertical * side\n",
    "\t# リストの作成及び初期値の代入\n",
    "\tboard_list = [1]\n",
    "\t# リストの計算及び追加\n",
    "\tfor _ in range(number_of_square - 1):\n",
    "\t\tboard_list.append(2 * board_list[-1])\n",
    "\t# ndarrayへの変換\n",
    "\tboard_ndarray = np.array(board_list)\n",
    "\t# 指定された形への変換\n",
    "\tchess_board_and_wheal = board_ndarray.reshape(vertical, side)\n",
    "\n",
    "\t# 返り値の設定\n",
    "\treturn chess_board_and_wheal\n",
    "\n",
    "\n",
    "# 8 * 8マスのチェス盤での小麦の数を求める\n",
    "chess_board_88 = chess_board_wheal(8, 8)\n",
    "# 結果の表示\n",
    "print('8*8マスのチェス盤に小麦を並べる : \\n{}'.format(chess_board_88))"
   ]
  },
  {
   "cell_type": "markdown",
   "id": "21a3f092",
   "metadata": {},
   "source": [
    "## 【問題3】小麦の数の合計"
   ]
  },
  {
   "cell_type": "code",
   "execution_count": 5,
   "id": "168fa809",
   "metadata": {
    "scrolled": true
   },
   "outputs": [
    {
     "name": "stdout",
     "output_type": "stream",
     "text": [
      "8*8マスのチェス盤に置かれた小麦の総数は1.844674e+19個です\n",
      "列1の値の平均は9.042522e+15です。\n",
      "列2の値の平均は1.808504e+16です。\n",
      "列3の値の平均は3.617009e+16です。\n",
      "列4の値の平均は7.234017e+16です。\n",
      "列5の値の平均は1.446803e+17です。\n",
      "列6の値の平均は2.893607e+17です。\n",
      "列7の値の平均は5.787214e+17です。\n",
      "列8の値の平均は1.157443e+18です。\n"
     ]
    },
    {
     "data": {
      "image/png": "[encoded data removed]",
      "text/plain": [
       "<Figure size 432x288 with 1 Axes>"
      ]
     },
     "metadata": {
      "needs_background": "light"
     },
     "output_type": "display_data"
    }
   ],
   "source": [
    "# 全部のマスの小麦の数の合計\n",
    "print('8*8マスのチェス盤に置かれた小麦の総数は{:e}個です'.format(chess_board_88.sum()))\n",
    "\n",
    "# 各列の平均値を求めるためのパラメータ設定\n",
    "list_of_average_for_each_columns = []\n",
    "count = 0\n",
    "\n",
    "# 各列の平均値を求める計算式\n",
    "for column in range(chess_board_88.shape[0]):\n",
    "\tfor row in range(chess_board_88.shape[1]):\n",
    "\t\tcount += chess_board_88[row][column]\n",
    "\tlist_of_average_for_each_columns.append(count / 8)\n",
    "\tcount = 0\n",
    "\n",
    "# 結果の表示\n",
    "for column, average in enumerate(list_of_average_for_each_columns, 1):\n",
    "\tprint('列{}の値の平均は{:e}です。'.format(column, average))\n",
    "\n",
    "# グラフの表示\n",
    "plt.title('Average for each column')\n",
    "plt.xlabel('Column')\n",
    "plt.ylabel('Average')\n",
    "plt.bar(np.arange(1, 9), list_of_average_for_each_columns)\n",
    "plt.show()"
   ]
  },
  {
   "cell_type": "markdown",
   "id": "8853c66b",
   "metadata": {},
   "source": [
    "## 【問題4】小麦の数のヒートマップ\n",
    "### サンプルコード\n",
    "かなり内容は変更している\n",
    "\n",
    "subplots()でfig(描写領域)とax1(グラフの詳細)をさだめるパターン   \n",
    "軸等の決め方は下記参照  \n",
    "軸反転がaxisのメソッドにしか見つけられなかったため今回使用している  \n",
    "しかしながら、ヒートマップを描く際簡略的に(arrayを用いて？)描く場合plt,ax1双方でかけるが書き方が異なる  \n",
    "おそらく簡単なのはpltで書いてしまうこと、ax1は少し複雑っぽい  \n",
    "また、colorbarも同様であるがpltの場合下記の書き方で問題ないがaxで書くとmatpableという値が必要になる  \n",
    "書き方は難しそう、今は使わないので今度調べる"
   ]
  },
  {
   "cell_type": "code",
   "execution_count": 6,
   "id": "99afa5db",
   "metadata": {},
   "outputs": [
    {
     "data": {
      "image/png": "[encoded data removed]",
      "text/plain": [
       "<Figure size 432x288 with 2 Axes>"
      ]
     },
     "metadata": {
      "needs_background": "light"
     },
     "output_type": "display_data"
    }
   ],
   "source": [
    "fig, ax1 = plt.subplots()\n",
    "ax1.set_xlabel('colums')\n",
    "ax1.set_xlabel(\"column\")\n",
    "ax1.set_ylabel(\"row\")\n",
    "ax1.set_title(\"heatmap\")\n",
    "ax1.invert_yaxis()\n",
    "plt.pcolor(np.array([0, 1, 3, 5, 7, 9, 11, 13]).reshape(4, 2))\n",
    "plt.colorbar()\n",
    "plt.show()"
   ]
  },
  {
   "cell_type": "markdown",
   "id": "84140246",
   "metadata": {},
   "source": [
    "## 回答"
   ]
  },
  {
   "cell_type": "code",
   "execution_count": 7,
   "id": "845bcd09",
   "metadata": {},
   "outputs": [
    {
     "data": {
      "image/png": "[encoded data removed]",
      "text/plain": [
       "<Figure size 432x288 with 1 Axes>"
      ]
     },
     "metadata": {
      "needs_background": "light"
     },
     "output_type": "display_data"
    }
   ],
   "source": [
    "# 描画領域の作成\n",
    "fig, ax = plt.subplots()\n",
    "# ラベルの作成\n",
    "ax.set_xlabel(\"column\")\n",
    "ax.set_ylabel(\"row\")\n",
    "ax.set_title(\"heatmap of chess board\")\n",
    "# y軸の反転\n",
    "ax.invert_yaxis()\n",
    "# ヒートマップの作成\n",
    "plt.pcolor(chess_board_wheal(8, 8))\n",
    "plt.show()"
   ]
  },
  {
   "cell_type": "markdown",
   "id": "1bb81491",
   "metadata": {},
   "source": [
    "## 【問題5】後半は前半の何倍か"
   ]
  },
  {
   "cell_type": "code",
   "execution_count": 8,
   "id": "aad4c95e",
   "metadata": {},
   "outputs": [
    {
     "name": "stdout",
     "output_type": "stream",
     "text": [
      "True\n",
      "チェス盤の後半にある小麦の数は前半にある小麦の数の4.294967e+09倍です。\n"
     ]
    }
   ],
   "source": [
    "# 前後半の小麦の数を求める計算式\n",
    "first_half = 0\n",
    "latter_half = 0\n",
    "count1 = 0\n",
    "count2 = 0\n",
    "\n",
    "# 計算\n",
    "for column in range(chess_board_88.shape[0]):\n",
    "\tfor row in range(chess_board_88.shape[1]):\n",
    "\t\tif column <= 3:\n",
    "\t\t\tfirst_half += chess_board_88[column][row]\n",
    "\t\t\tcount1 += 1\n",
    "\t\telse:\n",
    "\t\t\tlatter_half += chess_board_88[column][row]\n",
    "\t\t\tcount2 += 1\n",
    "\n",
    "# 結果の表示\n",
    "print(count1 == count2)\n",
    "print('チェス盤の後半にある小麦の数は前半にある小麦の数の{:e}倍です。'.format(latter_half // first_half))\n"
   ]
  },
  {
   "cell_type": "markdown",
   "id": "b3c45c71",
   "metadata": {},
   "source": [
    "## 【問題6】他の計算方法によるn×mマスへの拡張"
   ]
  },
  {
   "cell_type": "markdown",
   "id": "3e4cc7cf",
   "metadata": {},
   "source": [
    "### np.append()を用いた関数"
   ]
  },
  {
   "cell_type": "code",
   "execution_count": 9,
   "id": "f17382ca",
   "metadata": {},
   "outputs": [
    {
     "name": "stdout",
     "output_type": "stream",
     "text": [
      "8*8マスのチェス盤に小麦を並べる : \n",
      "[[                  1                   2                   4\n",
      "                    8                  16                  32\n",
      "                   64                 128]\n",
      " [                256                 512                1024\n",
      "                 2048                4096                8192\n",
      "                16384               32768]\n",
      " [              65536              131072              262144\n",
      "               524288             1048576             2097152\n",
      "              4194304             8388608]\n",
      " [           16777216            33554432            67108864\n",
      "            134217728           268435456           536870912\n",
      "           1073741824          2147483648]\n",
      " [         4294967296          8589934592         17179869184\n",
      "          34359738368         68719476736        137438953472\n",
      "         274877906944        549755813888]\n",
      " [      1099511627776       2199023255552       4398046511104\n",
      "        8796093022208      17592186044416      35184372088832\n",
      "       70368744177664     140737488355328]\n",
      " [    281474976710656     562949953421312    1125899906842624\n",
      "     2251799813685248    4503599627370496    9007199254740992\n",
      "    18014398509481984   36028797018963968]\n",
      " [  72057594037927936  144115188075855872  288230376151711744\n",
      "   576460752303423488 1152921504606846976 2305843009213693952\n",
      "  4611686018427387904 9223372036854775808]]\n"
     ]
    },
    {
     "name": "stderr",
     "output_type": "stream",
     "text": [
      "/var/folders/ll/cdp3xh194t7_9c631lm07yx00000gn/T/ipykernel_33297/98631065.py:23: RuntimeWarning: overflow encountered in long_scalars\n",
      "  board_ndarray = np.append(board_ndarray, 2 * board_ndarray[-1])\n"
     ]
    }
   ],
   "source": [
    "# 関数の定義\n",
    "def chess_board_wheal_npappend(vertical, side):\n",
    "\t\"\"\"\n",
    "\tfunction : 縦[vertical] * 横[side]のマスを持つチェス盤に1,2,4と倍々に小麦を置いた配列[chess_board_and_wheal]を返す関数\n",
    "\t:param vertical : int\n",
    "\t\tチェス盤の縦のマス数\n",
    "\t:param side : int\n",
    "\t\tチェス盤の横のマス数\n",
    "\tnumber_of_square : int\n",
    "\t\tマスの総数\n",
    "\tboard_list : list\n",
    "\t\tマスを右上から一列に並べたと仮定して小麦を置いたリスト\n",
    "\t:return : chess_board_chess_wheal\n",
    "\t\t小麦を置いた後の配列\n",
    "\t\"\"\"\n",
    "\n",
    "\t# マスの合計の計算\n",
    "\tnumber_of_square = vertical * side\n",
    "\t# リストの作成及び初期値の代入\n",
    "\tboard_ndarray = np.array([1])\n",
    "\t# リストの計算及び追加\n",
    "\tfor _ in range(number_of_square - 1):\n",
    "\t\tboard_ndarray = np.append(board_ndarray, 2 * board_ndarray[-1])\n",
    "\t# ndarrayへの変換\n",
    "\tboard_ndarray = np.array(board_ndarray).astype(np.uint64)\n",
    "\t# 指定された形への変換\n",
    "\tchess_board_and_wheal = board_ndarray.reshape(vertical, side)\n",
    "\n",
    "\t# 返り値の設定\n",
    "\treturn chess_board_and_wheal\n",
    "\n",
    "\n",
    "# 8 * 8マスのチェス盤での小麦の数を求める\n",
    "chess_board_88 = chess_board_wheal_npappend(8, 8)\n",
    "\n",
    "# 結果の表示\n",
    "print('8*8マスのチェス盤に小麦を並べる : \\n{}'.format(chess_board_88))"
   ]
  },
  {
   "cell_type": "markdown",
   "id": "c997c824",
   "metadata": {},
   "source": [
    "### ブロードキャストを用いた方法"
   ]
  },
  {
   "cell_type": "code",
   "execution_count": 10,
   "id": "4a3fc522",
   "metadata": {},
   "outputs": [
    {
     "name": "stdout",
     "output_type": "stream",
     "text": [
      "8*8マスのチェス盤に小麦を並べる : \n",
      "[[                  1                   2                   4\n",
      "                    8                  16                  32\n",
      "                   64                 128]\n",
      " [                256                 512                1024\n",
      "                 2048                4096                8192\n",
      "                16384               32768]\n",
      " [              65536              131072              262144\n",
      "               524288             1048576             2097152\n",
      "              4194304             8388608]\n",
      " [           16777216            33554432            67108864\n",
      "            134217728           268435456           536870912\n",
      "           1073741824          2147483648]\n",
      " [         4294967296          8589934592         17179869184\n",
      "          34359738368         68719476736        137438953472\n",
      "         274877906944        549755813888]\n",
      " [      1099511627776       2199023255552       4398046511104\n",
      "        8796093022208      17592186044416      35184372088832\n",
      "       70368744177664     140737488355328]\n",
      " [    281474976710656     562949953421312    1125899906842624\n",
      "     2251799813685248    4503599627370496    9007199254740992\n",
      "    18014398509481984   36028797018963968]\n",
      " [  72057594037927936  144115188075855872  288230376151711744\n",
      "   576460752303423488 1152921504606846976 2305843009213693952\n",
      "  4611686018427387904 9223372036854775808]]\n"
     ]
    }
   ],
   "source": [
    "# 関数の定義\n",
    "def chess_board_wheal_broadcast(vertical, side):\n",
    "\t\"\"\"\n",
    "\tfunction : 縦[vertical] * 横[side]のマスを持つチェス盤に1,2,4と倍々に小麦を置いた配列[chess_board_and_wheal]を返す関数\n",
    "\t:param vertical : int\n",
    "\t\tチェス盤の縦のマス数\n",
    "\t:param side : int\n",
    "\t\tチェス盤の横のマス数\n",
    "\tnumber_of_square : int\n",
    "\t\tマスの総数\n",
    "\tboard_list : list\n",
    "\t\tマスを右上から一列に並べたと仮定して小麦を置いたリスト\n",
    "\t:return : chess_board_chess_wheal\n",
    "\t\t小麦を置いた後の配列\n",
    "\t\"\"\"\n",
    "\n",
    "\t# マスの合計の計算\n",
    "\tnumber_of_square = vertical * side\n",
    "\t# リストの作成及び初期値の代入\n",
    "\tindices_of_square = np.arange(number_of_square)\n",
    "\t# リストの計算及び追加\n",
    "\tboard_ndarray = 2 ** indices_of_square\n",
    "\t# ndarrayへの変換\n",
    "\tboard_ndarray = np.array(board_ndarray).astype(np.uint64)\n",
    "\t# 指定された形への変換\n",
    "\tchess_board_and_wheal = board_ndarray.reshape(vertical, side)\n",
    "\n",
    "\t# 返り値の設定\n",
    "\treturn chess_board_and_wheal\n",
    "\n",
    "\n",
    "# 8 * 8マスのチェス盤での小麦の数を求める\n",
    "chess_board_88 = chess_board_wheal_broadcast(8, 8)\n",
    "\n",
    "# 結果の表示\n",
    "print('8*8マスのチェス盤に小麦を並べる : \\n{}'.format(chess_board_88))"
   ]
  },
  {
   "cell_type": "markdown",
   "id": "1545233e",
   "metadata": {},
   "source": [
    "## 【問題7】計算時間の比較"
   ]
  },
  {
   "cell_type": "code",
   "execution_count": 11,
   "id": "e46437be",
   "metadata": {},
   "outputs": [
    {
     "name": "stdout",
     "output_type": "stream",
     "text": [
      "15.1 µs ± 171 ns per loop (mean ± std. dev. of 7 runs, 100000 loops each)\n"
     ]
    }
   ],
   "source": [
    "%%timeit\n",
    "chess_board_88 = chess_board_wheal(8, 8)"
   ]
  },
  {
   "cell_type": "code",
   "execution_count": 12,
   "id": "c3621e1d",
   "metadata": {},
   "outputs": [
    {
     "name": "stderr",
     "output_type": "stream",
     "text": [
      "/var/folders/ll/cdp3xh194t7_9c631lm07yx00000gn/T/ipykernel_33297/98631065.py:23: RuntimeWarning: overflow encountered in long_scalars\n",
      "  board_ndarray = np.append(board_ndarray, 2 * board_ndarray[-1])\n"
     ]
    },
    {
     "name": "stdout",
     "output_type": "stream",
     "text": [
      "326 µs ± 8.78 µs per loop (mean ± std. dev. of 7 runs, 1000 loops each)\n"
     ]
    }
   ],
   "source": [
    "%%timeit\n",
    "chess_board_88 = chess_board_wheal_npappend(8, 8)"
   ]
  },
  {
   "cell_type": "code",
   "execution_count": 13,
   "id": "a5216160",
   "metadata": {},
   "outputs": [
    {
     "name": "stdout",
     "output_type": "stream",
     "text": [
      "3.58 µs ± 211 ns per loop (mean ± std. dev. of 7 runs, 100000 loops each)\n"
     ]
    }
   ],
   "source": [
    "%%timeit\n",
    "chess_board_88 = chess_board_wheal_broadcast(8, 8)"
   ]
  },
  {
   "cell_type": "markdown",
   "id": "e3805979",
   "metadata": {},
   "source": [
    "上記の結果より実行速度は  \n",
    "1. ブロードキャスト  \n",
    "2. append  \n",
    "3. np.append    \n",
    "\n",
    "の順となった  \n",
    "listの呼び出す回数と書き込む回数順に比例する  \n",
    "また、npappendが警告にもあるように著しく遅いため、極力使用しない方がよいと考えられる。"
   ]
  },
  {
   "cell_type": "code",
   "execution_count": null,
   "id": "a408c70c",
   "metadata": {},
   "outputs": [],
   "source": []
  }
 ],
 "metadata": {
  "kernelspec": {
   "display_name": "Python 3 (ipykernel)",
   "language": "python",
   "name": "python3"
  },
  "language_info": {
   "codemirror_mode": {
    "name": "ipython",
    "version": 3
   },
   "file_extension": ".py",
   "mimetype": "text/x-python",
   "name": "python",
   "nbconvert_exporter": "python",
   "pygments_lexer": "ipython3",
   "version": "3.9.5"
  }
 },
 "nbformat": 4,
 "nbformat_minor": 5
}
